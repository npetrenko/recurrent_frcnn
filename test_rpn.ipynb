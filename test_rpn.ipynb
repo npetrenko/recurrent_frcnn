{
 "cells": [
  {
   "cell_type": "code",
   "execution_count": 1,
   "metadata": {},
   "outputs": [
    {
     "name": "stderr",
     "output_type": "stream",
     "text": [
      "Using TensorFlow backend.\n"
     ]
    }
   ],
   "source": [
    "import tensorflow as tf\n",
    "import numpy as np\n",
    "\n",
    "from rcnn.simple_nn import build_rpn, build_shared\n",
    "from rcnn.video_parser import get_data\n",
    "from rcnn.data_generators import get_anchor, video_streamer\n",
    "\n",
    "import pickle\n",
    "\n",
    "from matplotlib import pyplot as plt"
   ]
  },
  {
   "cell_type": "code",
   "execution_count": 2,
   "metadata": {},
   "outputs": [
    {
     "name": "stdout",
     "output_type": "stream",
     "text": [
      "Parsing annotation files\n"
     ]
    }
   ],
   "source": [
    "data,_,_ = get_data('./videos/', './annotations/')"
   ]
  },
  {
   "cell_type": "code",
   "execution_count": 3,
   "metadata": {},
   "outputs": [],
   "source": [
    "with open('config.pickle', 'rb') as f:\n",
    "    C = pickle.load(f)"
   ]
  },
  {
   "cell_type": "code",
   "execution_count": 4,
   "metadata": {},
   "outputs": [],
   "source": [
    "data_gen = video_streamer(data, 2, C, lambda x,y: [x,y], 'tf', 'test')"
   ]
  },
  {
   "cell_type": "code",
   "execution_count": 5,
   "metadata": {},
   "outputs": [],
   "source": [
    "x = next(data_gen)"
   ]
  },
  {
   "cell_type": "code",
   "execution_count": 6,
   "metadata": {},
   "outputs": [
    {
     "data": {
      "text/plain": [
       "(4, 8, 32, 32, 18)"
      ]
     },
     "execution_count": 6,
     "metadata": {},
     "output_type": "execute_result"
    }
   ],
   "source": [
    "x[1][0].shape"
   ]
  },
  {
   "cell_type": "code",
   "execution_count": 241,
   "metadata": {},
   "outputs": [
    {
     "data": {
      "image/png": "[encoded data removed]",
      "text/plain": [
       "<matplotlib.figure.Figure at 0x7f9f7790e0b8>"
      ]
     },
     "metadata": {},
     "output_type": "display_data"
    }
   ],
   "source": [
    "plt.imshow(x[0][0,7])\n",
    "plt.show()"
   ]
  },
  {
   "cell_type": "code",
   "execution_count": 8,
   "metadata": {},
   "outputs": [
    {
     "data": {
      "text/plain": [
       "array([[[ 140.,  155.,  148.],\n",
       "        [ 125.,  142.,  155.],\n",
       "        [ 135.,  147.,  155.],\n",
       "        ..., \n",
       "        [ 155.,  155.,  155.],\n",
       "        [ 140.,  140.,  140.],\n",
       "        [ 155.,  155.,  155.]],\n",
       "\n",
       "       [[ 131.,  149.,  155.],\n",
       "        [ -61.,  -53.,   46.],\n",
       "        [ -98.,  -99.,   80.],\n",
       "        ..., \n",
       "        [-100., -100., -100.],\n",
       "        [ -81.,  -81.,  -81.],\n",
       "        [ 140.,  140.,  140.]],\n",
       "\n",
       "       [[ 141.,  150.,  155.],\n",
       "        [ -92.,  -94.,   67.],\n",
       "        [-100., -100.,  146.],\n",
       "        ..., \n",
       "        [ -97.,  -97.,  -97.],\n",
       "        [-100., -100., -100.],\n",
       "        [ 155.,  155.,  155.]],\n",
       "\n",
       "       ..., \n",
       "       [[ 155.,  149.,  155.],\n",
       "        [ -99., -100.,  -91.],\n",
       "        [ -99.,  -98., -100.],\n",
       "        ..., \n",
       "        [ -97.,  -97.,  -97.],\n",
       "        [-100., -100., -100.],\n",
       "        [ 155.,  155.,  155.]],\n",
       "\n",
       "       [[ 155.,  141.,  155.],\n",
       "        [ -66.,  -78.,  -58.],\n",
       "        [ -96., -100., -100.],\n",
       "        ..., \n",
       "        [-100., -100., -100.],\n",
       "        [ -81.,  -81.,  -81.],\n",
       "        [ 140.,  140.,  140.]],\n",
       "\n",
       "       [[ 155.,  142.,  155.],\n",
       "        [ 153.,  139.,  155.],\n",
       "        [ 155.,  150.,  155.],\n",
       "        ..., \n",
       "        [ 155.,  155.,  155.],\n",
       "        [ 140.,  140.,  140.],\n",
       "        [ 155.,  155.,  155.]]], dtype=float32)"
      ]
     },
     "execution_count": 8,
     "metadata": {},
     "output_type": "execute_result"
    }
   ],
   "source": [
    "x[0][3,7]"
   ]
  },
  {
   "cell_type": "code",
   "execution_count": 9,
   "metadata": {},
   "outputs": [],
   "source": [
    "num_anchors = len(C.anchor_box_ratios) * len(C.anchor_box_scales)"
   ]
  },
  {
   "cell_type": "code",
   "execution_count": 240,
   "metadata": {},
   "outputs": [
    {
     "data": {
      "image/png": "[encoded data removed]",
      "text/plain": [
       "<matplotlib.figure.Figure at 0x7f9f83ec2588>"
      ]
     },
     "metadata": {},
     "output_type": "display_data"
    }
   ],
   "source": [
    "plt.imshow((x[1][0][0,7][...,:num_anchors]).sum(axis=-1))\n",
    "plt.show()"
   ]
  },
  {
   "cell_type": "code",
   "execution_count": null,
   "metadata": {},
   "outputs": [],
   "source": []
  },
  {
   "cell_type": "code",
   "execution_count": 11,
   "metadata": {},
   "outputs": [],
   "source": [
    "sess = tf.Session()"
   ]
  },
  {
   "cell_type": "code",
   "execution_count": 12,
   "metadata": {},
   "outputs": [],
   "source": [
    "video_input = tf.placeholder(tf.float32, [None, None, None, None, 3])"
   ]
  },
  {
   "cell_type": "code",
   "execution_count": 13,
   "metadata": {},
   "outputs": [],
   "source": [
    "base = build_shared(video_input)\n",
    "rpn = build_rpn(base, num_anchors)"
   ]
  },
  {
   "cell_type": "code",
   "execution_count": 14,
   "metadata": {},
   "outputs": [],
   "source": [
    "saver = tf.train.Saver()"
   ]
  },
  {
   "cell_type": "code",
   "execution_count": 242,
   "metadata": {},
   "outputs": [
    {
     "name": "stdout",
     "output_type": "stream",
     "text": [
      "INFO:tensorflow:Restoring parameters from ./save_dir/rpn_only.sv\n"
     ]
    }
   ],
   "source": [
    "saver.restore(sess, './save_dir/rpn_only.sv')"
   ]
  },
  {
   "cell_type": "code",
   "execution_count": 243,
   "metadata": {},
   "outputs": [],
   "source": [
    "def predict_rpn(X):\n",
    "    return sess.run(rpn, {video_input:X})"
   ]
  },
  {
   "cell_type": "code",
   "execution_count": 244,
   "metadata": {},
   "outputs": [],
   "source": [
    "preds = predict_rpn(x[0])[0]"
   ]
  },
  {
   "cell_type": "code",
   "execution_count": 245,
   "metadata": {},
   "outputs": [
    {
     "data": {
      "image/png": "[encoded data removed]",
      "text/plain": [
       "<matplotlib.figure.Figure at 0x7f9f777ed358>"
      ]
     },
     "metadata": {},
     "output_type": "display_data"
    }
   ],
   "source": [
    "plt.imshow(preds[0,7].max(axis=-1))\n",
    "plt.show()"
   ]
  },
  {
   "cell_type": "code",
   "execution_count": 141,
   "metadata": {},
   "outputs": [
    {
     "data": {
      "text/plain": [
       "array([[ 0.9929865 ,  0.99820745,  0.99818295, ...,  0.99824727,\n",
       "         0.99805754,  0.93583316],\n",
       "       [ 0.99680859,  0.99855739,  0.99833184, ...,  0.99836463,\n",
       "         0.99851006,  0.92697704],\n",
       "       [ 0.99636984,  0.99868816,  0.99823016, ...,  0.99866128,\n",
       "         0.99824971,  0.9500432 ],\n",
       "       ..., \n",
       "       [ 0.99731892,  0.99868494,  0.99801326, ...,  0.99873823,\n",
       "         0.99832207,  0.95351499],\n",
       "       [ 0.99706984,  0.99761826,  0.99658382, ...,  0.9967097 ,\n",
       "         0.99620348,  0.94553596],\n",
       "       [ 0.86562389,  0.8502391 ,  0.84071904, ...,  0.83726591,\n",
       "         0.86525089,  0.7640335 ]], dtype=float32)"
      ]
     },
     "execution_count": 141,
     "metadata": {},
     "output_type": "execute_result"
    }
   ],
   "source": [
    "preds[1,7].max(axis=-1)"
   ]
  },
  {
   "cell_type": "code",
   "execution_count": 17,
   "metadata": {},
   "outputs": [
    {
     "data": {
      "text/plain": [
       "(4, 8, 32, 32, 9)"
      ]
     },
     "execution_count": 17,
     "metadata": {},
     "output_type": "execute_result"
    }
   ],
   "source": [
    "preds.shape"
   ]
  },
  {
   "cell_type": "code",
   "execution_count": null,
   "metadata": {},
   "outputs": [],
   "source": []
  }
 ],
 "metadata": {
  "kernelspec": {
   "display_name": "py3.6",
   "language": "python",
   "name": "py3.6"
  },
  "language_info": {
   "codemirror_mode": {
    "name": "ipython",
    "version": 3
   },
   "file_extension": ".py",
   "mimetype": "text/x-python",
   "name": "python",
   "nbconvert_exporter": "python",
   "pygments_lexer": "ipython3",
   "version": "3.6.2"
  }
 },
 "nbformat": 4,
 "nbformat_minor": 2
}
