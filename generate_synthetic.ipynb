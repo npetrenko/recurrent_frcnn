{
 "cells": [
  {
   "cell_type": "code",
   "execution_count": 1,
   "metadata": {},
   "outputs": [],
   "source": [
    "import numpy as np\n",
    "import cv2\n",
    "from matplotlib import pyplot as plt\n",
    "import os\n",
    "from scipy.misc import imsave"
   ]
  },
  {
   "cell_type": "code",
   "execution_count": 2,
   "metadata": {},
   "outputs": [],
   "source": [
    "imsize = 32"
   ]
  },
  {
   "cell_type": "code",
   "execution_count": 3,
   "metadata": {},
   "outputs": [],
   "source": [
    "class Agent:\n",
    "    def __init__(self, positive):\n",
    "        \n",
    "        self.positive = positive\n",
    "        \n",
    "        if positive:\n",
    "            self.color = np.array([0,1,0], dtype='int64')\n",
    "            self.size = np.random.randint(low=3, high=5, size=2)\n",
    "        else:\n",
    "            self.color = np.array([0,0,1], dtype='int64')#np.random.normal(size=3)\n",
    "            self.size = np.random.randint(low=4, high=8, size=2)\n",
    "        \n",
    "        self.pos = np.random.randint(low=0, high=imsize-1, size=2)\n",
    "        self.v = np.random.normal(size=2)*2.5\n",
    "        \n",
    "    def correct_pv(self):\n",
    "        #correct position and velocity\n",
    "        pos = self.pos\n",
    "        v = self.v\n",
    "        s = self.size\n",
    "        \n",
    "        if pos[0] + s[0] >= imsize:\n",
    "            v[0] *= -1\n",
    "            pos[0] = imsize - s[0] - 1\n",
    "            \n",
    "        if pos[1] + s[1] >= imsize:\n",
    "            v[1] *= -1\n",
    "            pos[1] = imsize - s[1] - 1\n",
    "        \n",
    "        if pos[0] - s[0] < 0:\n",
    "            v[0] *= -1\n",
    "            pos[0] = s[0]\n",
    "            \n",
    "        if pos[1] - s[1] < 0:\n",
    "            v[1] *= -1\n",
    "            pos[1] = s[1]\n",
    "        \n",
    "        self.pos = pos\n",
    "        self.v = v\n",
    "    def plot_on_image(self, im):\n",
    "        pos = self.pos\n",
    "        s = self.size\n",
    "        \n",
    "        im[pos[0] - s[0]:pos[0] + s[0], pos[1] - s[1]:pos[1] + s[1]] = self.color\n",
    "        \n",
    "        bcol = np.array([1,1,1], dtype='float')\n",
    "        im[0,:] = bcol\n",
    "        im[-1,:] = bcol\n",
    "        im[:,0] = bcol\n",
    "        im[:,-1] = bcol\n",
    "        \n",
    "    def step(self):\n",
    "        self.v += np.random.normal(size=2)/4\n",
    "        self.v = np.clip(self.v, -2, 2)\n",
    "        \n",
    "        self.pos = (self.v + self.pos).astype('int64')\n",
    "        self.correct_pv()\n",
    "    \n",
    "    def bbox(self):\n",
    "        pos = self.pos\n",
    "        s = self.size\n",
    "        return [pos[1] - s[1], pos[0] - s[0], pos[1] + s[1], pos[0] + s[0]]"
   ]
  },
  {
   "cell_type": "code",
   "execution_count": 4,
   "metadata": {},
   "outputs": [],
   "source": [
    "def create_video(num_positive, num_negative, length):\n",
    "    im = np.zeros([imsize, imsize, 3])\n",
    "    apos = [Agent(True) for _ in range(num_positive)]\n",
    "    afal = [Agent(False) for _ in range(num_negative)]\n",
    "    \n",
    "    imgs = []\n",
    "    bboxes = []\n",
    "    \n",
    "    for _ in range(length):\n",
    "        im = np.zeros([imsize, imsize, 3])\n",
    "\n",
    "        for agents in [apos, afal]:\n",
    "            [ag.step() for ag in agents]\n",
    "            [ag.plot_on_image(im) for ag in agents]\n",
    "\n",
    "        imgs.append(im)\n",
    "        \n",
    "        bboxes.append( [ag.bbox() for ag in apos] )\n",
    "        \n",
    "    return np.array(imgs), bboxes"
   ]
  },
  {
   "cell_type": "code",
   "execution_count": 5,
   "metadata": {},
   "outputs": [],
   "source": [
    "video, bboxes = create_video(2,3,4)"
   ]
  },
  {
   "cell_type": "code",
   "execution_count": 6,
   "metadata": {},
   "outputs": [
    {
     "data": {
      "text/plain": [
       "0.0"
      ]
     },
     "execution_count": 6,
     "metadata": {},
     "output_type": "execute_result"
    }
   ],
   "source": [
    "video.min()"
   ]
  },
  {
   "cell_type": "code",
   "execution_count": 7,
   "metadata": {},
   "outputs": [
    {
     "data": {
      "image/png": "[encoded data removed]",
      "text/plain": [
       "<matplotlib.figure.Figure at 0x7f11c9a5d080>"
      ]
     },
     "metadata": {},
     "output_type": "display_data"
    }
   ],
   "source": [
    "for im, bb in zip(video, bboxes):\n",
    "    for b in bb:\n",
    "        cv2.rectangle(im,(b[0], b[1]), (b[2], b[3]), 70)\n",
    "        pass\n",
    "    plt.imshow(im)\n",
    "    plt.show()\n",
    "    break"
   ]
  },
  {
   "cell_type": "code",
   "execution_count": 8,
   "metadata": {},
   "outputs": [
    {
     "data": {
      "text/plain": [
       "[[18, 2, 24, 8], [14, 0, 20, 8]]"
      ]
     },
     "execution_count": 8,
     "metadata": {},
     "output_type": "execute_result"
    }
   ],
   "source": [
    "bboxes[0]"
   ]
  },
  {
   "cell_type": "code",
   "execution_count": 9,
   "metadata": {},
   "outputs": [],
   "source": [
    "video_dir = './videos/'\n",
    "annotations_dir = './annotations/'"
   ]
  },
  {
   "cell_type": "code",
   "execution_count": 10,
   "metadata": {},
   "outputs": [],
   "source": [
    "!rm -R videos/*\n",
    "!rm annotations/*"
   ]
  },
  {
   "cell_type": "code",
   "execution_count": 11,
   "metadata": {},
   "outputs": [],
   "source": [
    "for vnum in range(50):\n",
    "    cdir = os.path.join(video_dir,str(vnum))\n",
    "    os.mkdir(cdir)\n",
    "    video, frame_bbs = create_video(2,2,np.random.randint(low=50, high=500))\n",
    "    for i, frame in enumerate(video):\n",
    "        imsave(os.path.join(cdir, str(i) + '.jpg'), frame)\n",
    "    \n",
    "    annot_file = os.path.join(annotations_dir,str(vnum)) + '.txt'\n",
    "    with open(annot_file, 'w') as f:\n",
    "        for i, frame in enumerate(frame_bbs):\n",
    "            for bb in frame:\n",
    "                f.write(','.join([str(i)] + list(map(str, bb))) + '\\n')"
   ]
  },
  {
   "cell_type": "code",
   "execution_count": null,
   "metadata": {},
   "outputs": [],
   "source": []
  }
 ],
 "metadata": {
  "kernelspec": {
   "display_name": "py3.6",
   "language": "python",
   "name": "py3.6"
  },
  "language_info": {
   "codemirror_mode": {
    "name": "ipython",
    "version": 3
   },
   "file_extension": ".py",
   "mimetype": "text/x-python",
   "name": "python",
   "nbconvert_exporter": "python",
   "pygments_lexer": "ipython3",
   "version": "3.6.2"
  }
 },
 "nbformat": 4,
 "nbformat_minor": 2
}
